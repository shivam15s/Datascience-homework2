{
 "cells": [
  {
   "cell_type": "code",
   "execution_count": 1,
   "metadata": {},
   "outputs": [],
   "source": [
    "import numpy as np\n",
    "import pandas as pd\n",
    "from tqdm import tqdm\n",
    "import pyhash\n",
    "import matplotlib.pyplot as plt"
   ]
  },
  {
   "cell_type": "markdown",
   "metadata": {},
   "source": [
    "### Data Preprocessing"
   ]
  },
  {
   "cell_type": "code",
   "execution_count": 2,
   "metadata": {},
   "outputs": [],
   "source": [
    "df = pd.read_csv(\"train.data\", sep=\" \", header=None, usecols=[1,2])"
   ]
  },
  {
   "cell_type": "code",
   "execution_count": 3,
   "metadata": {},
   "outputs": [],
   "source": [
    "stream = df.to_numpy()"
   ]
  },
  {
   "cell_type": "code",
   "execution_count": 4,
   "metadata": {},
   "outputs": [],
   "source": [
    "np.random.seed(42)"
   ]
  },
  {
   "cell_type": "markdown",
   "metadata": {},
   "source": [
    "### MisraGries Class "
   ]
  },
  {
   "cell_type": "code",
   "execution_count": 5,
   "metadata": {},
   "outputs": [],
   "source": [
    "class MisraGries():\n",
    "    def __init__(self, k):\n",
    "        self.counters = {}\n",
    "        self.k = k\n",
    "        \n",
    "    def process(self, element, count):\n",
    "        if element in self.counters.keys():\n",
    "            self.counters[element] += count\n",
    "        else:\n",
    "            if len(self.counters.keys()) < self.k-1:\n",
    "                self.counters[element] = count\n",
    "            else:\n",
    "                self.counters = {x:y-count for x, y in self.counters.items()}\n",
    "                in_count = max(0, -1*min(self.counters.values()))\n",
    "                self.counters = {x:y+in_count for x, y in self.counters.items() if y+in_count>0}\n",
    "                if in_count>0:                    \n",
    "                    self.counters[element] = in_count\n",
    "                           \n",
    "    def query(self, q):\n",
    "#         print(self.counters)\n",
    "        if q in self.counters.keys():\n",
    "            return self.counters[q]\n",
    "        return 0\n",
    "                "
   ]
  },
  {
   "cell_type": "code",
   "execution_count": 5,
   "metadata": {},
   "outputs": [],
   "source": [
    "# ct_mg = MisraGries(100)"
   ]
  },
  {
   "cell_type": "code",
   "execution_count": 6,
   "metadata": {},
   "outputs": [
    {
     "name": "stderr",
     "output_type": "stream",
     "text": [
      "100%|██████████| 1467345/1467345 [00:03<00:00, 400501.97it/s]\n"
     ]
    }
   ],
   "source": [
    "# for i in tqdm(range(stream.shape[0])):\n",
    "#     ct_mg.process(stream[i][0], stream[i][1])"
   ]
  },
  {
   "cell_type": "code",
   "execution_count": 7,
   "metadata": {},
   "outputs": [
    {
     "data": {
      "text/plain": [
       "39611"
      ]
     },
     "execution_count": 7,
     "metadata": {},
     "output_type": "execute_result"
    }
   ],
   "source": [
    "# ct_mg.query(12)"
   ]
  },
  {
   "cell_type": "markdown",
   "metadata": {},
   "source": [
    "### Count Min Class"
   ]
  },
  {
   "cell_type": "code",
   "execution_count": 6,
   "metadata": {},
   "outputs": [],
   "source": [
    "class CountMin():\n",
    "    def __init__(self, w, d):\n",
    "        self.w = w\n",
    "        self.d = d\n",
    "        self.hasher = [pyhash.super_fast_hash(i) for i in range(w)]\n",
    "        self.counters = np.zeros((w, d))\n",
    "        \n",
    "    def process(self, element, count):\n",
    "        for i in range(self.w):\n",
    "            self.counters[i, self.hasher[i](str(element))%self.d] += count\n",
    "    \n",
    "    def query(self, q):\n",
    "        return min([self.counters[i, self.hasher[i](str(q))%self.d] for i in range(self.w)])"
   ]
  },
  {
   "cell_type": "code",
   "execution_count": 7,
   "metadata": {},
   "outputs": [],
   "source": [
    "# ct_cm = CountMin(5, 20)"
   ]
  },
  {
   "cell_type": "code",
   "execution_count": 10,
   "metadata": {},
   "outputs": [
    {
     "name": "stderr",
     "output_type": "stream",
     "text": [
      "100%|██████████| 1467345/1467345 [00:13<00:00, 107748.37it/s]\n"
     ]
    }
   ],
   "source": [
    "# for i in tqdm(range(stream.shape[0])):\n",
    "#     ct_cm.process(stream[i][0], stream[i][1])"
   ]
  },
  {
   "cell_type": "code",
   "execution_count": 11,
   "metadata": {},
   "outputs": [
    {
     "data": {
      "text/plain": [
       "169183.0"
      ]
     },
     "execution_count": 11,
     "metadata": {},
     "output_type": "execute_result"
    }
   ],
   "source": [
    "# ct_cm.query(12)"
   ]
  },
  {
   "cell_type": "markdown",
   "metadata": {},
   "source": [
    "### Count Sketch Class"
   ]
  },
  {
   "cell_type": "code",
   "execution_count": 7,
   "metadata": {},
   "outputs": [],
   "source": [
    "class CountSketch():\n",
    "    def __init__(self, w, d):\n",
    "        self.w = w\n",
    "        self.d = d\n",
    "        self.hasher_h = [pyhash.super_fast_hash(i) for i in range(w)]\n",
    "        self.hasher_g = [pyhash.spooky_32(i) for i in range(w)]\n",
    "        self.counters = np.zeros((w, d))\n",
    "        \n",
    "    def process(self, element, count):\n",
    "        for i in range(self.w):\n",
    "            self.counters[i, self.hasher_h[i](str(element))%self.d] += count*(self.hasher_g[i](str(element))%2)\n",
    "    \n",
    "    def query(self, q):\n",
    "        return np.median([self.counters[i, self.hasher_h[i](str(q))%self.d]*(self.hasher_g[i](str(q))%2) for i in range(self.w)])"
   ]
  },
  {
   "cell_type": "code",
   "execution_count": 22,
   "metadata": {},
   "outputs": [],
   "source": [
    "# ct_cs = CountSketch(5, 20)"
   ]
  },
  {
   "cell_type": "code",
   "execution_count": 23,
   "metadata": {},
   "outputs": [
    {
     "name": "stderr",
     "output_type": "stream",
     "text": [
      "100%|██████████| 1467345/1467345 [00:24<00:00, 60704.15it/s]\n"
     ]
    }
   ],
   "source": [
    "# for i in tqdm(range(stream.shape[0])):\n",
    "#     ct_cs.process(stream[i][0], stream[i][1])"
   ]
  },
  {
   "cell_type": "code",
   "execution_count": 24,
   "metadata": {},
   "outputs": [
    {
     "data": {
      "text/plain": [
       "90892.0"
      ]
     },
     "execution_count": 24,
     "metadata": {},
     "output_type": "execute_result"
    }
   ],
   "source": [
    "# ct_cs.query(12)"
   ]
  },
  {
   "cell_type": "markdown",
   "metadata": {},
   "source": [
    "### Preparing the query data"
   ]
  },
  {
   "cell_type": "code",
   "execution_count": 8,
   "metadata": {},
   "outputs": [],
   "source": [
    "# Stores the exact frequencies of each item occuring in the stream\n",
    "exact_freqs = {}"
   ]
  },
  {
   "cell_type": "code",
   "execution_count": 9,
   "metadata": {},
   "outputs": [
    {
     "name": "stderr",
     "output_type": "stream",
     "text": [
      "100%|██████████| 1467345/1467345 [00:01<00:00, 953189.20it/s]\n"
     ]
    }
   ],
   "source": [
    "for i in tqdm(range(stream.shape[0])):\n",
    "    try:\n",
    "        exact_freqs[stream[i][0]] += stream[i][1]\n",
    "    except:\n",
    "        exact_freqs[stream[i][0]] = stream[i][1]"
   ]
  },
  {
   "cell_type": "code",
   "execution_count": 11,
   "metadata": {},
   "outputs": [],
   "source": [
    "arr = np.arange(1000)\n",
    "np.random.shuffle(arr)\n",
    "arr = np.sort(arr[:100])"
   ]
  },
  {
   "cell_type": "code",
   "execution_count": 12,
   "metadata": {},
   "outputs": [],
   "source": [
    "queries = []"
   ]
  },
  {
   "cell_type": "code",
   "execution_count": 13,
   "metadata": {},
   "outputs": [],
   "source": [
    "ind = 0\n",
    "for w in sorted(exact_freqs, key=exact_freqs.get, reverse=True):\n",
    "    if ind in arr:\n",
    "        queries.append(w)\n",
    "    ind += 1\n",
    "queries = np.array(queries)"
   ]
  },
  {
   "cell_type": "markdown",
   "metadata": {},
   "source": [
    "### Testing predictions for MisraGries, Count Min and Count Sketch"
   ]
  },
  {
   "cell_type": "markdown",
   "metadata": {},
   "source": [
    "> MisraGries Predictions"
   ]
  },
  {
   "cell_type": "code",
   "execution_count": 14,
   "metadata": {},
   "outputs": [
    {
     "name": "stderr",
     "output_type": "stream",
     "text": [
      "100%|██████████| 1467345/1467345 [00:03<00:00, 396373.89it/s]\n",
      "100%|██████████| 1467345/1467345 [00:03<00:00, 423275.42it/s]\n",
      "100%|██████████| 1467345/1467345 [00:03<00:00, 462322.69it/s]\n",
      "100%|██████████| 1467345/1467345 [00:03<00:00, 484368.78it/s]\n",
      "100%|██████████| 1467345/1467345 [00:02<00:00, 520652.98it/s]\n"
     ]
    }
   ],
   "source": [
    "mg_error_list = []\n",
    "\n",
    "k = [100, 200, 500, 1000, 2000]\n",
    "for j in k:\n",
    "    rel_error = 0\n",
    "    ct_mg = MisraGries(j)\n",
    "\n",
    "    for i in tqdm(range(stream.shape[0])):\n",
    "        ct_mg.process(stream[i][0], stream[i][1])\n",
    "\n",
    "    for i in range(100):\n",
    "        rel_error += (exact_freqs[queries[i]] - ct_mg.query(queries[i]))/exact_freqs[queries[i]]\n",
    "\n",
    "    rel_error/=100\n",
    "    mg_error_list.append(rel_error)\n",
    "    "
   ]
  },
  {
   "cell_type": "code",
   "execution_count": 27,
   "metadata": {},
   "outputs": [
    {
     "data": {
      "text/plain": [
       "[0.9992373551708121,\n",
       " 0.9925474912631737,\n",
       " 0.9447790103113922,\n",
       " 0.8706427837802916,\n",
       " 0.7246504375298524]"
      ]
     },
     "execution_count": 27,
     "metadata": {},
     "output_type": "execute_result"
    }
   ],
   "source": [
    "mg_error_list"
   ]
  },
  {
   "cell_type": "markdown",
   "metadata": {},
   "source": [
    "> Count Min Predictions"
   ]
  },
  {
   "cell_type": "code",
   "execution_count": 15,
   "metadata": {},
   "outputs": [
    {
     "name": "stderr",
     "output_type": "stream",
     "text": [
      "100%|██████████| 1467345/1467345 [00:13<00:00, 105545.99it/s]\n",
      "100%|██████████| 1467345/1467345 [00:13<00:00, 109750.39it/s]\n",
      "100%|██████████| 1467345/1467345 [00:13<00:00, 111683.11it/s]\n",
      "100%|██████████| 1467345/1467345 [00:13<00:00, 107076.53it/s]\n",
      "100%|██████████| 1467345/1467345 [00:13<00:00, 105698.62it/s]\n"
     ]
    }
   ],
   "source": [
    "cm_error_list = []\n",
    "\n",
    "k = [100, 200, 500, 1000, 2000]\n",
    "for j in k:\n",
    "    rel_error = 0\n",
    "    ct_cm = CountMin(5, j//5)\n",
    "\n",
    "    for i in tqdm(range(stream.shape[0])):\n",
    "        ct_cm.process(stream[i][0], stream[i][1])\n",
    "\n",
    "    for i in range(100):\n",
    "        rel_error += abs(exact_freqs[queries[i]] - ct_cm.query(queries[i]))/exact_freqs[queries[i]]\n",
    "\n",
    "    rel_error/=100\n",
    "    cm_error_list.append(rel_error)\n",
    "    "
   ]
  },
  {
   "cell_type": "code",
   "execution_count": 16,
   "metadata": {},
   "outputs": [
    {
     "data": {
      "text/plain": [
       "[150.8331555703926,\n",
       " 67.19078414509968,\n",
       " 21.767250022146783,\n",
       " 9.312634925952935,\n",
       " 3.985883454903427]"
      ]
     },
     "execution_count": 16,
     "metadata": {},
     "output_type": "execute_result"
    }
   ],
   "source": [
    "cm_error_list"
   ]
  },
  {
   "cell_type": "markdown",
   "metadata": {},
   "source": [
    "> Count Sketch Predictions"
   ]
  },
  {
   "cell_type": "code",
   "execution_count": 17,
   "metadata": {},
   "outputs": [
    {
     "name": "stderr",
     "output_type": "stream",
     "text": [
      "100%|██████████| 1467345/1467345 [00:25<00:00, 58021.42it/s]\n",
      "100%|██████████| 1467345/1467345 [00:26<00:00, 55878.11it/s]\n",
      "100%|██████████| 1467345/1467345 [00:29<00:00, 50276.64it/s]\n",
      "100%|██████████| 1467345/1467345 [00:28<00:00, 51853.23it/s]\n",
      "100%|██████████| 1467345/1467345 [00:27<00:00, 53246.51it/s]\n"
     ]
    }
   ],
   "source": [
    "cs_error_list = []\n",
    "\n",
    "k = [100, 200, 500, 1000, 2000]\n",
    "for j in k:\n",
    "    rel_error = 0\n",
    "    ct_cs = CountSketch(5, j//5)\n",
    "\n",
    "    for i in tqdm(range(stream.shape[0])):\n",
    "        ct_cs.process(stream[i][0], stream[i][1])\n",
    "\n",
    "    for i in range(100):\n",
    "        rel_error += abs(exact_freqs[queries[i]] - ct_cs.query(queries[i]))/exact_freqs[queries[i]]\n",
    "\n",
    "    rel_error/=100\n",
    "    cs_error_list.append(rel_error)\n",
    "    "
   ]
  },
  {
   "cell_type": "code",
   "execution_count": 18,
   "metadata": {},
   "outputs": [
    {
     "data": {
      "text/plain": [
       "[36.613779367106766,\n",
       " 16.956027524056957,\n",
       " 6.223144922249254,\n",
       " 2.818454862108778,\n",
       " 1.5672015542027404]"
      ]
     },
     "execution_count": 18,
     "metadata": {},
     "output_type": "execute_result"
    }
   ],
   "source": [
    "cs_error_list"
   ]
  },
  {
   "cell_type": "code",
   "execution_count": 19,
   "metadata": {},
   "outputs": [],
   "source": [
    "error_rates = pd.DataFrame(np.c_[k, mg_error_list, cm_error_list, cs_error_list], columns=[\"k\", \"Misra Gries\", \"Count Min\", \"Count Sketch\"])"
   ]
  },
  {
   "cell_type": "markdown",
   "metadata": {},
   "source": [
    "### Error rates for the three models"
   ]
  },
  {
   "cell_type": "code",
   "execution_count": 20,
   "metadata": {},
   "outputs": [
    {
     "data": {
      "text/html": [
       "<div>\n",
       "<style scoped>\n",
       "    .dataframe tbody tr th:only-of-type {\n",
       "        vertical-align: middle;\n",
       "    }\n",
       "\n",
       "    .dataframe tbody tr th {\n",
       "        vertical-align: top;\n",
       "    }\n",
       "\n",
       "    .dataframe thead th {\n",
       "        text-align: right;\n",
       "    }\n",
       "</style>\n",
       "<table border=\"1\" class=\"dataframe\">\n",
       "  <thead>\n",
       "    <tr style=\"text-align: right;\">\n",
       "      <th></th>\n",
       "      <th>k</th>\n",
       "      <th>Misra Gries</th>\n",
       "      <th>Count Min</th>\n",
       "      <th>Count Sketch</th>\n",
       "    </tr>\n",
       "  </thead>\n",
       "  <tbody>\n",
       "    <tr>\n",
       "      <th>0</th>\n",
       "      <td>100.0</td>\n",
       "      <td>0.999237</td>\n",
       "      <td>150.833156</td>\n",
       "      <td>36.613779</td>\n",
       "    </tr>\n",
       "    <tr>\n",
       "      <th>1</th>\n",
       "      <td>200.0</td>\n",
       "      <td>0.992547</td>\n",
       "      <td>67.190784</td>\n",
       "      <td>16.956028</td>\n",
       "    </tr>\n",
       "    <tr>\n",
       "      <th>2</th>\n",
       "      <td>500.0</td>\n",
       "      <td>0.944779</td>\n",
       "      <td>21.767250</td>\n",
       "      <td>6.223145</td>\n",
       "    </tr>\n",
       "    <tr>\n",
       "      <th>3</th>\n",
       "      <td>1000.0</td>\n",
       "      <td>0.870643</td>\n",
       "      <td>9.312635</td>\n",
       "      <td>2.818455</td>\n",
       "    </tr>\n",
       "    <tr>\n",
       "      <th>4</th>\n",
       "      <td>2000.0</td>\n",
       "      <td>0.724650</td>\n",
       "      <td>3.985883</td>\n",
       "      <td>1.567202</td>\n",
       "    </tr>\n",
       "  </tbody>\n",
       "</table>\n",
       "</div>"
      ],
      "text/plain": [
       "        k  Misra Gries   Count Min  Count Sketch\n",
       "0   100.0     0.999237  150.833156     36.613779\n",
       "1   200.0     0.992547   67.190784     16.956028\n",
       "2   500.0     0.944779   21.767250      6.223145\n",
       "3  1000.0     0.870643    9.312635      2.818455\n",
       "4  2000.0     0.724650    3.985883      1.567202"
      ]
     },
     "execution_count": 20,
     "metadata": {},
     "output_type": "execute_result"
    }
   ],
   "source": [
    "error_rates"
   ]
  },
  {
   "cell_type": "markdown",
   "metadata": {},
   "source": [
    "### Plot for the error rates"
   ]
  },
  {
   "cell_type": "code",
   "execution_count": 21,
   "metadata": {},
   "outputs": [
    {
     "data": {
      "text/plain": [
       "<matplotlib.legend.Legend at 0x7f2d636e1630>"
      ]
     },
     "execution_count": 21,
     "metadata": {},
     "output_type": "execute_result"
    },
    {
     "data": {
      "image/png": "[encoded data removed]",
      "text/plain": [
       "<Figure size 432x288 with 1 Axes>"
      ]
     },
     "metadata": {
      "needs_background": "light"
     },
     "output_type": "display_data"
    }
   ],
   "source": [
    "plt.plot(k, mg_error_list, label=\"Misra Gries\")\n",
    "plt.plot(k, cm_error_list, label=\"Count Min\")\n",
    "plt.plot(k, cs_error_list, label=\"Count Sketch\")\n",
    "plt.xlabel(\"k\")\n",
    "plt.ylabel(\"Relative Average Error\")\n",
    "plt.legend()"
   ]
  },
  {
   "cell_type": "markdown",
   "metadata": {},
   "source": [
    "### Minimum D such that Relative Average Error is less than 1"
   ]
  },
  {
   "cell_type": "markdown",
   "metadata": {},
   "source": [
    "    We observe that, Count Min Sketch achieves less than 1 relative average error at around d = 6000/5 = 1200.\n",
    "    The Count Sketch on the other hand, achieves less than 1 relative average error at around d = 4000/5 = 800\n",
    "    \n",
    "    Hence, we see that on this dataset, count sketch gives better predictions than count min sketch"
   ]
  },
  {
   "cell_type": "code",
   "execution_count": 22,
   "metadata": {},
   "outputs": [
    {
     "name": "stderr",
     "output_type": "stream",
     "text": [
      "100%|██████████| 1467345/1467345 [00:15<00:00, 92392.59it/s]\n",
      "100%|██████████| 1467345/1467345 [00:17<00:00, 86226.60it/s]\n",
      "100%|██████████| 1467345/1467345 [00:15<00:00, 96272.66it/s] \n",
      "100%|██████████| 1467345/1467345 [00:14<00:00, 97877.14it/s] \n",
      "100%|██████████| 1467345/1467345 [00:14<00:00, 98699.00it/s] \n"
     ]
    }
   ],
   "source": [
    "cm_error_list_min_k = []\n",
    "\n",
    "k = [2000, 3000, 4000, 5000, 6000]\n",
    "for j in k:\n",
    "    rel_error = 0\n",
    "    ct_cm = CountMin(5, j//5)\n",
    "\n",
    "    for i in tqdm(range(stream.shape[0])):\n",
    "        ct_cm.process(stream[i][0], stream[i][1])\n",
    "\n",
    "    for i in range(100):\n",
    "        rel_error += abs(exact_freqs[queries[i]] - ct_cm.query(queries[i]))/exact_freqs[queries[i]]\n",
    "\n",
    "    rel_error/=100\n",
    "    cm_error_list_min_k.append(rel_error)"
   ]
  },
  {
   "cell_type": "code",
   "execution_count": 23,
   "metadata": {},
   "outputs": [
    {
     "data": {
      "text/plain": [
       "[3.985883454903427,\n",
       " 2.3473498096215946,\n",
       " 1.5618416294440107,\n",
       " 1.164880599753372,\n",
       " 0.9194576076057601]"
      ]
     },
     "execution_count": 23,
     "metadata": {},
     "output_type": "execute_result"
    }
   ],
   "source": [
    "cm_error_list_min_k"
   ]
  },
  {
   "cell_type": "code",
   "execution_count": 25,
   "metadata": {},
   "outputs": [
    {
     "name": "stderr",
     "output_type": "stream",
     "text": [
      "100%|██████████| 1467345/1467345 [00:29<00:00, 49068.28it/s]\n",
      "100%|██████████| 1467345/1467345 [00:29<00:00, 49917.38it/s]\n",
      "100%|██████████| 1467345/1467345 [00:28<00:00, 52061.15it/s]\n",
      "100%|██████████| 1467345/1467345 [00:27<00:00, 52703.32it/s]\n",
      "100%|██████████| 1467345/1467345 [00:27<00:00, 52607.35it/s]\n"
     ]
    }
   ],
   "source": [
    "cs_error_list_min_k = []\n",
    "\n",
    "k = [2000, 3000, 4000, 5000, 6000]\n",
    "for j in k:\n",
    "    rel_error = 0\n",
    "    ct_cs = CountSketch(5, j//5)\n",
    "\n",
    "    for i in tqdm(range(stream.shape[0])):\n",
    "        ct_cs.process(stream[i][0], stream[i][1])\n",
    "\n",
    "    for i in range(100):\n",
    "        rel_error += abs(exact_freqs[queries[i]] - ct_cs.query(queries[i]))/exact_freqs[queries[i]]\n",
    "\n",
    "    rel_error/=100\n",
    "    cs_error_list_min_k.append(rel_error)"
   ]
  },
  {
   "cell_type": "code",
   "execution_count": 26,
   "metadata": {},
   "outputs": [
    {
     "data": {
      "text/plain": [
       "[1.5672015542027404,\n",
       " 1.1942130718593322,\n",
       " 0.9568054040181915,\n",
       " 0.8492505071931566,\n",
       " 0.7823057389636116]"
      ]
     },
     "execution_count": 26,
     "metadata": {},
     "output_type": "execute_result"
    }
   ],
   "source": [
    "cs_error_list_min_k"
   ]
  },
  {
   "cell_type": "code",
   "execution_count": null,
   "metadata": {},
   "outputs": [],
   "source": []
  },
  {
   "cell_type": "code",
   "execution_count": null,
   "metadata": {},
   "outputs": [],
   "source": []
  }
 ],
 "metadata": {
  "kernelspec": {
   "display_name": "Python 3.6.9 64-bit",
   "language": "python",
   "name": "python36964bit06c18d5be3434ebe9e670e966348e899"
  },
  "language_info": {
   "codemirror_mode": {
    "name": "ipython",
    "version": 3
   },
   "file_extension": ".py",
   "mimetype": "text/x-python",
   "name": "python",
   "nbconvert_exporter": "python",
   "pygments_lexer": "ipython3",
   "version": "3.6.9"
  }
 },
 "nbformat": 4,
 "nbformat_minor": 4
}
